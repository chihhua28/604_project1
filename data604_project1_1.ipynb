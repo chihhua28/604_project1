{
 "cells": [
  {
   "cell_type": "code",
   "execution_count": 1,
   "id": "1dc52a9c",
   "metadata": {},
   "outputs": [],
   "source": [
    "import pandas as pd\n",
    "import numpy as np\n",
    "fashion1 = pd.read_csv('../data604/fasion_mnist/fashion-mnist_train.csv')\n",
    "fashion2 = pd.read_csv('../data604/fasion_mnist/fashion-mnist_test.csv')"
   ]
  },
  {
   "cell_type": "code",
   "execution_count": 2,
   "id": "be455b0e",
   "metadata": {},
   "outputs": [
    {
     "name": "stdout",
     "output_type": "stream",
     "text": [
      "<class 'pandas.core.frame.DataFrame'>\n",
      "RangeIndex: 60000 entries, 0 to 59999\n",
      "Columns: 785 entries, label to pixel784\n",
      "dtypes: int64(785)\n",
      "memory usage: 359.3 MB\n",
      "<class 'pandas.core.frame.DataFrame'>\n",
      "RangeIndex: 10000 entries, 0 to 9999\n",
      "Columns: 785 entries, label to pixel784\n",
      "dtypes: int64(785)\n",
      "memory usage: 59.9 MB\n"
     ]
    }
   ],
   "source": [
    "fashion1.info()\n",
    "fashion2.info()"
   ]
  },
  {
   "cell_type": "code",
   "execution_count": 3,
   "id": "d07077ec",
   "metadata": {},
   "outputs": [],
   "source": [
    "#merge the two fashion data sets\n",
    "fashion_data = fashion1.append(fashion2, ignore_index=True)"
   ]
  },
  {
   "cell_type": "code",
   "execution_count": 4,
   "id": "ed98f361",
   "metadata": {},
   "outputs": [
    {
     "data": {
      "text/html": [
       "<div>\n",
       "<style scoped>\n",
       "    .dataframe tbody tr th:only-of-type {\n",
       "        vertical-align: middle;\n",
       "    }\n",
       "\n",
       "    .dataframe tbody tr th {\n",
       "        vertical-align: top;\n",
       "    }\n",
       "\n",
       "    .dataframe thead th {\n",
       "        text-align: right;\n",
       "    }\n",
       "</style>\n",
       "<table border=\"1\" class=\"dataframe\">\n",
       "  <thead>\n",
       "    <tr style=\"text-align: right;\">\n",
       "      <th></th>\n",
       "      <th>label</th>\n",
       "      <th>pixel1</th>\n",
       "      <th>pixel2</th>\n",
       "      <th>pixel3</th>\n",
       "      <th>pixel4</th>\n",
       "      <th>pixel5</th>\n",
       "      <th>pixel6</th>\n",
       "      <th>pixel7</th>\n",
       "      <th>pixel8</th>\n",
       "      <th>pixel9</th>\n",
       "      <th>...</th>\n",
       "      <th>pixel775</th>\n",
       "      <th>pixel776</th>\n",
       "      <th>pixel777</th>\n",
       "      <th>pixel778</th>\n",
       "      <th>pixel779</th>\n",
       "      <th>pixel780</th>\n",
       "      <th>pixel781</th>\n",
       "      <th>pixel782</th>\n",
       "      <th>pixel783</th>\n",
       "      <th>pixel784</th>\n",
       "    </tr>\n",
       "  </thead>\n",
       "  <tbody>\n",
       "    <tr>\n",
       "      <th>0</th>\n",
       "      <td>2</td>\n",
       "      <td>0</td>\n",
       "      <td>0</td>\n",
       "      <td>0</td>\n",
       "      <td>0</td>\n",
       "      <td>0</td>\n",
       "      <td>0</td>\n",
       "      <td>0</td>\n",
       "      <td>0</td>\n",
       "      <td>0</td>\n",
       "      <td>...</td>\n",
       "      <td>0</td>\n",
       "      <td>0</td>\n",
       "      <td>0</td>\n",
       "      <td>0</td>\n",
       "      <td>0</td>\n",
       "      <td>0</td>\n",
       "      <td>0</td>\n",
       "      <td>0</td>\n",
       "      <td>0</td>\n",
       "      <td>0</td>\n",
       "    </tr>\n",
       "    <tr>\n",
       "      <th>1</th>\n",
       "      <td>9</td>\n",
       "      <td>0</td>\n",
       "      <td>0</td>\n",
       "      <td>0</td>\n",
       "      <td>0</td>\n",
       "      <td>0</td>\n",
       "      <td>0</td>\n",
       "      <td>0</td>\n",
       "      <td>0</td>\n",
       "      <td>0</td>\n",
       "      <td>...</td>\n",
       "      <td>0</td>\n",
       "      <td>0</td>\n",
       "      <td>0</td>\n",
       "      <td>0</td>\n",
       "      <td>0</td>\n",
       "      <td>0</td>\n",
       "      <td>0</td>\n",
       "      <td>0</td>\n",
       "      <td>0</td>\n",
       "      <td>0</td>\n",
       "    </tr>\n",
       "    <tr>\n",
       "      <th>2</th>\n",
       "      <td>6</td>\n",
       "      <td>0</td>\n",
       "      <td>0</td>\n",
       "      <td>0</td>\n",
       "      <td>0</td>\n",
       "      <td>0</td>\n",
       "      <td>0</td>\n",
       "      <td>0</td>\n",
       "      <td>5</td>\n",
       "      <td>0</td>\n",
       "      <td>...</td>\n",
       "      <td>0</td>\n",
       "      <td>0</td>\n",
       "      <td>0</td>\n",
       "      <td>30</td>\n",
       "      <td>43</td>\n",
       "      <td>0</td>\n",
       "      <td>0</td>\n",
       "      <td>0</td>\n",
       "      <td>0</td>\n",
       "      <td>0</td>\n",
       "    </tr>\n",
       "    <tr>\n",
       "      <th>3</th>\n",
       "      <td>0</td>\n",
       "      <td>0</td>\n",
       "      <td>0</td>\n",
       "      <td>0</td>\n",
       "      <td>1</td>\n",
       "      <td>2</td>\n",
       "      <td>0</td>\n",
       "      <td>0</td>\n",
       "      <td>0</td>\n",
       "      <td>0</td>\n",
       "      <td>...</td>\n",
       "      <td>3</td>\n",
       "      <td>0</td>\n",
       "      <td>0</td>\n",
       "      <td>0</td>\n",
       "      <td>0</td>\n",
       "      <td>1</td>\n",
       "      <td>0</td>\n",
       "      <td>0</td>\n",
       "      <td>0</td>\n",
       "      <td>0</td>\n",
       "    </tr>\n",
       "    <tr>\n",
       "      <th>4</th>\n",
       "      <td>3</td>\n",
       "      <td>0</td>\n",
       "      <td>0</td>\n",
       "      <td>0</td>\n",
       "      <td>0</td>\n",
       "      <td>0</td>\n",
       "      <td>0</td>\n",
       "      <td>0</td>\n",
       "      <td>0</td>\n",
       "      <td>0</td>\n",
       "      <td>...</td>\n",
       "      <td>0</td>\n",
       "      <td>0</td>\n",
       "      <td>0</td>\n",
       "      <td>0</td>\n",
       "      <td>0</td>\n",
       "      <td>0</td>\n",
       "      <td>0</td>\n",
       "      <td>0</td>\n",
       "      <td>0</td>\n",
       "      <td>0</td>\n",
       "    </tr>\n",
       "    <tr>\n",
       "      <th>...</th>\n",
       "      <td>...</td>\n",
       "      <td>...</td>\n",
       "      <td>...</td>\n",
       "      <td>...</td>\n",
       "      <td>...</td>\n",
       "      <td>...</td>\n",
       "      <td>...</td>\n",
       "      <td>...</td>\n",
       "      <td>...</td>\n",
       "      <td>...</td>\n",
       "      <td>...</td>\n",
       "      <td>...</td>\n",
       "      <td>...</td>\n",
       "      <td>...</td>\n",
       "      <td>...</td>\n",
       "      <td>...</td>\n",
       "      <td>...</td>\n",
       "      <td>...</td>\n",
       "      <td>...</td>\n",
       "      <td>...</td>\n",
       "      <td>...</td>\n",
       "    </tr>\n",
       "    <tr>\n",
       "      <th>69995</th>\n",
       "      <td>0</td>\n",
       "      <td>0</td>\n",
       "      <td>0</td>\n",
       "      <td>0</td>\n",
       "      <td>0</td>\n",
       "      <td>0</td>\n",
       "      <td>0</td>\n",
       "      <td>0</td>\n",
       "      <td>0</td>\n",
       "      <td>0</td>\n",
       "      <td>...</td>\n",
       "      <td>32</td>\n",
       "      <td>23</td>\n",
       "      <td>14</td>\n",
       "      <td>20</td>\n",
       "      <td>0</td>\n",
       "      <td>0</td>\n",
       "      <td>1</td>\n",
       "      <td>0</td>\n",
       "      <td>0</td>\n",
       "      <td>0</td>\n",
       "    </tr>\n",
       "    <tr>\n",
       "      <th>69996</th>\n",
       "      <td>6</td>\n",
       "      <td>0</td>\n",
       "      <td>0</td>\n",
       "      <td>0</td>\n",
       "      <td>0</td>\n",
       "      <td>0</td>\n",
       "      <td>0</td>\n",
       "      <td>0</td>\n",
       "      <td>0</td>\n",
       "      <td>0</td>\n",
       "      <td>...</td>\n",
       "      <td>0</td>\n",
       "      <td>0</td>\n",
       "      <td>0</td>\n",
       "      <td>2</td>\n",
       "      <td>52</td>\n",
       "      <td>23</td>\n",
       "      <td>28</td>\n",
       "      <td>0</td>\n",
       "      <td>0</td>\n",
       "      <td>0</td>\n",
       "    </tr>\n",
       "    <tr>\n",
       "      <th>69997</th>\n",
       "      <td>8</td>\n",
       "      <td>0</td>\n",
       "      <td>0</td>\n",
       "      <td>0</td>\n",
       "      <td>0</td>\n",
       "      <td>0</td>\n",
       "      <td>0</td>\n",
       "      <td>0</td>\n",
       "      <td>0</td>\n",
       "      <td>0</td>\n",
       "      <td>...</td>\n",
       "      <td>175</td>\n",
       "      <td>172</td>\n",
       "      <td>172</td>\n",
       "      <td>182</td>\n",
       "      <td>199</td>\n",
       "      <td>222</td>\n",
       "      <td>42</td>\n",
       "      <td>0</td>\n",
       "      <td>1</td>\n",
       "      <td>0</td>\n",
       "    </tr>\n",
       "    <tr>\n",
       "      <th>69998</th>\n",
       "      <td>8</td>\n",
       "      <td>0</td>\n",
       "      <td>1</td>\n",
       "      <td>3</td>\n",
       "      <td>0</td>\n",
       "      <td>0</td>\n",
       "      <td>0</td>\n",
       "      <td>0</td>\n",
       "      <td>0</td>\n",
       "      <td>0</td>\n",
       "      <td>...</td>\n",
       "      <td>0</td>\n",
       "      <td>0</td>\n",
       "      <td>0</td>\n",
       "      <td>0</td>\n",
       "      <td>0</td>\n",
       "      <td>1</td>\n",
       "      <td>0</td>\n",
       "      <td>0</td>\n",
       "      <td>0</td>\n",
       "      <td>0</td>\n",
       "    </tr>\n",
       "    <tr>\n",
       "      <th>69999</th>\n",
       "      <td>1</td>\n",
       "      <td>0</td>\n",
       "      <td>0</td>\n",
       "      <td>0</td>\n",
       "      <td>0</td>\n",
       "      <td>0</td>\n",
       "      <td>0</td>\n",
       "      <td>0</td>\n",
       "      <td>140</td>\n",
       "      <td>119</td>\n",
       "      <td>...</td>\n",
       "      <td>111</td>\n",
       "      <td>95</td>\n",
       "      <td>75</td>\n",
       "      <td>44</td>\n",
       "      <td>1</td>\n",
       "      <td>0</td>\n",
       "      <td>0</td>\n",
       "      <td>0</td>\n",
       "      <td>0</td>\n",
       "      <td>0</td>\n",
       "    </tr>\n",
       "  </tbody>\n",
       "</table>\n",
       "<p>70000 rows × 785 columns</p>\n",
       "</div>"
      ],
      "text/plain": [
       "       label  pixel1  pixel2  pixel3  pixel4  pixel5  pixel6  pixel7  pixel8  \\\n",
       "0          2       0       0       0       0       0       0       0       0   \n",
       "1          9       0       0       0       0       0       0       0       0   \n",
       "2          6       0       0       0       0       0       0       0       5   \n",
       "3          0       0       0       0       1       2       0       0       0   \n",
       "4          3       0       0       0       0       0       0       0       0   \n",
       "...      ...     ...     ...     ...     ...     ...     ...     ...     ...   \n",
       "69995      0       0       0       0       0       0       0       0       0   \n",
       "69996      6       0       0       0       0       0       0       0       0   \n",
       "69997      8       0       0       0       0       0       0       0       0   \n",
       "69998      8       0       1       3       0       0       0       0       0   \n",
       "69999      1       0       0       0       0       0       0       0     140   \n",
       "\n",
       "       pixel9  ...  pixel775  pixel776  pixel777  pixel778  pixel779  \\\n",
       "0           0  ...         0         0         0         0         0   \n",
       "1           0  ...         0         0         0         0         0   \n",
       "2           0  ...         0         0         0        30        43   \n",
       "3           0  ...         3         0         0         0         0   \n",
       "4           0  ...         0         0         0         0         0   \n",
       "...       ...  ...       ...       ...       ...       ...       ...   \n",
       "69995       0  ...        32        23        14        20         0   \n",
       "69996       0  ...         0         0         0         2        52   \n",
       "69997       0  ...       175       172       172       182       199   \n",
       "69998       0  ...         0         0         0         0         0   \n",
       "69999     119  ...       111        95        75        44         1   \n",
       "\n",
       "       pixel780  pixel781  pixel782  pixel783  pixel784  \n",
       "0             0         0         0         0         0  \n",
       "1             0         0         0         0         0  \n",
       "2             0         0         0         0         0  \n",
       "3             1         0         0         0         0  \n",
       "4             0         0         0         0         0  \n",
       "...         ...       ...       ...       ...       ...  \n",
       "69995         0         1         0         0         0  \n",
       "69996        23        28         0         0         0  \n",
       "69997       222        42         0         1         0  \n",
       "69998         1         0         0         0         0  \n",
       "69999         0         0         0         0         0  \n",
       "\n",
       "[70000 rows x 785 columns]"
      ]
     },
     "execution_count": 4,
     "metadata": {},
     "output_type": "execute_result"
    }
   ],
   "source": [
    "fashion_data"
   ]
  },
  {
   "cell_type": "code",
   "execution_count": 5,
   "id": "ae582054",
   "metadata": {},
   "outputs": [],
   "source": [
    "import matplotlib as mpl\n",
    "import matplotlib.pyplot as plt"
   ]
  },
  {
   "cell_type": "code",
   "execution_count": 6,
   "id": "d7465c31",
   "metadata": {},
   "outputs": [
    {
     "data": {
      "text/plain": [
       "<function matplotlib.pyplot.show(close=None, block=None)>"
      ]
     },
     "execution_count": 6,
     "metadata": {},
     "output_type": "execute_result"
    },
    {
     "data": {
      "image/png": "[encoded data removed]",
      "text/plain": [
       "<Figure size 432x288 with 1 Axes>"
      ]
     },
     "metadata": {
      "needs_background": "light"
     },
     "output_type": "display_data"
    }
   ],
   "source": [
    "#plot one image per class\n",
    "image = fashion_data.loc[fashion_data['label']==5].to_numpy()[1,1:].reshape(28,28)\n",
    "plt.imshow(image, cmap='binary')\n",
    "plt.axis('off')\n",
    "plt.show"
   ]
  },
  {
   "cell_type": "code",
   "execution_count": 7,
   "id": "42987795",
   "metadata": {},
   "outputs": [
    {
     "data": {
      "text/plain": [
       "<function matplotlib.pyplot.show(close=None, block=None)>"
      ]
     },
     "execution_count": 7,
     "metadata": {},
     "output_type": "execute_result"
    },
    {
     "data": {
      "image/png": "[encoded data removed]",
      "text/plain": [
       "<Figure size 432x288 with 1 Axes>"
      ]
     },
     "metadata": {
      "needs_background": "light"
     },
     "output_type": "display_data"
    }
   ],
   "source": [
    "#plot mean images of the same class\n",
    "mean_image = np.mean(fashion_data.loc[fashion_data['label']==0].to_numpy()[:,1:], axis=0).reshape(28,28)\n",
    "plt.imshow(mean_image, cmap='binary')\n",
    "plt.axis('off')\n",
    "plt.show"
   ]
  },
  {
   "cell_type": "code",
   "execution_count": 8,
   "id": "2c1e6239",
   "metadata": {},
   "outputs": [],
   "source": [
    "#build a function for knn classifier, the default metrics is euclidean.\n",
    "from sklearn.neighbors import KNeighborsClassifier\n",
    "def knn_20(train, test, dist='euclidean'):\n",
    "    train_label = train['label'].copy()\n",
    "    train_nl = train.copy().drop(columns=['label'])\n",
    "    test_label = test['label'].copy()\n",
    "    test_nl = test.copy().drop(columns=['label'])\n",
    "    neigh = KNeighborsClassifier(n_neighbors=20, metric=dist)\n",
    "    neigh.fit(train_nl, train_label)\n",
    "    predict=neigh.predict(test_nl)\n",
    "    return predict"
   ]
  },
  {
   "cell_type": "code",
   "execution_count": 105,
   "id": "6eec262e",
   "metadata": {},
   "outputs": [],
   "source": [
    "#build a function for train test split by class.\n",
    "def tts_by_class(n): \n",
    "    train = fashion_data.loc[fashion_data['label']==0].sample(n)\n",
    "    for i in range(1,10):\n",
    "        train_row = fashion_data.loc[fashion_data['label']==i].sample(n)\n",
    "        train = train.append(train_row)\n",
    "    test = fashion_data.loc[fashion_data.index.difference(train.index)]\n",
    "    return train, test"
   ]
  },
  {
   "cell_type": "code",
   "execution_count": 106,
   "id": "c6b34608",
   "metadata": {},
   "outputs": [],
   "source": [
    "t_train, t_test = tts_by_class(500)"
   ]
  },
  {
   "cell_type": "code",
   "execution_count": 107,
   "id": "d644e57f",
   "metadata": {},
   "outputs": [
    {
     "data": {
      "text/plain": [
       "0    500\n",
       "4    500\n",
       "8    500\n",
       "1    500\n",
       "5    500\n",
       "9    500\n",
       "2    500\n",
       "6    500\n",
       "3    500\n",
       "7    500\n",
       "Name: label, dtype: int64"
      ]
     },
     "execution_count": 107,
     "metadata": {},
     "output_type": "execute_result"
    }
   ],
   "source": [
    "#count the value of different classes\n",
    "t_train['label'].value_counts()"
   ]
  },
  {
   "cell_type": "code",
   "execution_count": 14,
   "id": "fa3878dd",
   "metadata": {},
   "outputs": [
    {
     "name": "stdout",
     "output_type": "stream",
     "text": [
      "CPU times: user 43.5 s, sys: 4.11 s, total: 47.6 s\n",
      "Wall time: 11.8 s\n"
     ]
    }
   ],
   "source": [
    "%%time\n",
    "#mesure the time for running a knn classifier with a total of 5,000 training data.\n",
    "ts_predict = knn_20(t_train,t_test)"
   ]
  },
  {
   "cell_type": "code",
   "execution_count": 22,
   "id": "06533b5b",
   "metadata": {},
   "outputs": [],
   "source": [
    "#build a function to print accuracy.\n",
    "import json\n",
    "def print_acc(predict, test):\n",
    "    test_label = test['label'].copy()\n",
    "    global_acc=sum(predict==np.array(test_label))/len(test)\n",
    "    class_acc={}\n",
    "    test_wp=test.copy()\n",
    "    test_wp['predict'] = predict.tolist()\n",
    "    for i in range(10):\n",
    "        c = test_wp.loc[test['label']==i]\n",
    "        accuracy=sum(np.array(c['label'])==c['predict'])/len(c)\n",
    "        class_acc.update({str(i):accuracy})\n",
    "    sorted_class_acc = {}\n",
    "    sorted_keys = sorted(class_acc, key=class_acc.get)\n",
    "    for j in sorted_keys:\n",
    "        sorted_class_acc[j] = class_acc[j]\n",
    "    print(\"global_acc: \", global_acc)\n",
    "    print(\"class_acc: \") \n",
    "    print (json.dumps(sorted_class_acc, indent=2))"
   ]
  },
  {
   "cell_type": "code",
   "execution_count": 72,
   "id": "c906f400",
   "metadata": {},
   "outputs": [
    {
     "name": "stdout",
     "output_type": "stream",
     "text": [
      "global_acc:  0.7960307692307692\n",
      "class_acc: \n",
      "{\n",
      "  \"6\": 0.4673846153846154,\n",
      "  \"4\": 0.705076923076923,\n",
      "  \"5\": 0.7063076923076923,\n",
      "  \"2\": 0.726,\n",
      "  \"3\": 0.8224615384615385,\n",
      "  \"0\": 0.8593846153846154,\n",
      "  \"8\": 0.8730769230769231,\n",
      "  \"7\": 0.9135384615384615,\n",
      "  \"1\": 0.9375384615384615,\n",
      "  \"9\": 0.9495384615384616\n",
      "}\n"
     ]
    }
   ],
   "source": [
    "print_acc(ts_predict, t_test)"
   ]
  },
  {
   "cell_type": "code",
   "execution_count": 151,
   "id": "9b0fb59c",
   "metadata": {},
   "outputs": [],
   "source": [
    "cal_time1 = []\n",
    "acc_vs_size1 = []\n",
    "class_N = list(range(10,6500,10))\n",
    "for i in class_N:\n",
    "    start_time = time.time()\n",
    "    train_t, test_t = tts_by_class(i)\n",
    "    predict = knn_20(train_t,test_t)\n",
    "    global_acc=sum(np.array(predict)==np.array(test_t['label']))/len(test_t)\n",
    "    end_time = time.time()\n",
    "    acc_vs_size1.append(global_acc)\n",
    "    cal_time1.append(end_time-start_time)"
   ]
  },
  {
   "cell_type": "code",
   "execution_count": 152,
   "id": "957945cc",
   "metadata": {
    "scrolled": true
   },
   "outputs": [
    {
     "data": {
      "image/png": "[encoded data removed]",
      "text/plain": [
       "<Figure size 432x288 with 1 Axes>"
      ]
     },
     "metadata": {
      "needs_background": "light"
     },
     "output_type": "display_data"
    }
   ],
   "source": [
    "plt.plot(class_N, acc_vs_size1,'-o')\n",
    "plt.xlabel(\"Numbers of training data for each class\")\n",
    "plt.ylabel(\"Accuracy\")\n",
    "plt.show()"
   ]
  },
  {
   "cell_type": "code",
   "execution_count": 154,
   "id": "8747caeb",
   "metadata": {},
   "outputs": [
    {
     "data": {
      "text/plain": [
       "[<matplotlib.lines.Line2D at 0x7fc2097542e0>]"
      ]
     },
     "execution_count": 154,
     "metadata": {},
     "output_type": "execute_result"
    },
    {
     "data": {
      "image/png": "[encoded data removed]",
      "text/plain": [
       "<Figure size 432x288 with 1 Axes>"
      ]
     },
     "metadata": {
      "needs_background": "light"
     },
     "output_type": "display_data"
    }
   ],
   "source": [
    "plt.xlabel(\"Numbers of training data for each class\")\n",
    "plt.ylabel(\"Time\")\n",
    "plt.plot(class_N, cal_time1,'-o')"
   ]
  },
  {
   "cell_type": "code",
   "execution_count": 28,
   "id": "95fe6dae",
   "metadata": {},
   "outputs": [],
   "source": [
    "#Split the data with 1,000 examples per class to training set and remaining to testing set.\n",
    "train_c, test_c = tts_by_class(3000)"
   ]
  },
  {
   "cell_type": "code",
   "execution_count": 29,
   "id": "9b243ba6",
   "metadata": {},
   "outputs": [
    {
     "data": {
      "text/plain": [
       "0    3000\n",
       "1    3000\n",
       "2    3000\n",
       "3    3000\n",
       "4    3000\n",
       "5    3000\n",
       "6    3000\n",
       "7    3000\n",
       "8    3000\n",
       "9    3000\n",
       "Name: label, dtype: int64"
      ]
     },
     "execution_count": 29,
     "metadata": {},
     "output_type": "execute_result"
    }
   ],
   "source": [
    "train_c['label'].value_counts()"
   ]
  },
  {
   "cell_type": "code",
   "execution_count": 30,
   "id": "dca5c2a6",
   "metadata": {},
   "outputs": [
    {
     "name": "stdout",
     "output_type": "stream",
     "text": [
      "CPU times: user 2min 32s, sys: 13.9 s, total: 2min 46s\n",
      "Wall time: 36.8 s\n"
     ]
    }
   ],
   "source": [
    "%%time\n",
    "#Messure the time for the prediction\n",
    "predict_c = knn_20(train_c, test_c)"
   ]
  },
  {
   "cell_type": "code",
   "execution_count": 31,
   "id": "77580d66",
   "metadata": {},
   "outputs": [
    {
     "name": "stdout",
     "output_type": "stream",
     "text": [
      "global_acc:  0.83355\n",
      "class_acc: \n",
      "{\n",
      "  \"6\": 0.54925,\n",
      "  \"4\": 0.74525,\n",
      "  \"2\": 0.77625,\n",
      "  \"5\": 0.7765,\n",
      "  \"3\": 0.851,\n",
      "  \"0\": 0.86275,\n",
      "  \"8\": 0.92575,\n",
      "  \"7\": 0.939,\n",
      "  \"1\": 0.95075,\n",
      "  \"9\": 0.959\n",
      "}\n"
     ]
    }
   ],
   "source": [
    "print_acc(predict_c, test_c)"
   ]
  },
  {
   "cell_type": "code",
   "execution_count": 128,
   "id": "bb04c5be",
   "metadata": {},
   "outputs": [
    {
     "data": {
      "text/plain": [
       "0    4000\n",
       "1    4000\n",
       "2    4000\n",
       "3    4000\n",
       "4    4000\n",
       "5    4000\n",
       "6    4000\n",
       "7    4000\n",
       "8    4000\n",
       "9    4000\n",
       "Name: label, dtype: int64"
      ]
     },
     "execution_count": 128,
     "metadata": {},
     "output_type": "execute_result"
    }
   ],
   "source": [
    "test_c['label'].value_counts()"
   ]
  },
  {
   "cell_type": "code",
   "execution_count": 32,
   "id": "7102362b",
   "metadata": {},
   "outputs": [],
   "source": [
    "#test how much time it cost for p\n",
    "ts_rand_train = fashion_data.sample(5000)\n",
    "ts_rand_test = fashion_data.loc[fashion_data.index.difference(ts_rand_train.index)]"
   ]
  },
  {
   "cell_type": "code",
   "execution_count": 35,
   "id": "b04b4df6",
   "metadata": {},
   "outputs": [
    {
     "name": "stdout",
     "output_type": "stream",
     "text": [
      "CPU times: user 43.5 s, sys: 3.73 s, total: 47.2 s\n",
      "Wall time: 11.8 s\n"
     ]
    }
   ],
   "source": [
    "%%time\n",
    "ts_rand_pred = knn_20(ts_rand_train, ts_rand_test)"
   ]
  },
  {
   "cell_type": "code",
   "execution_count": 145,
   "id": "95a7c1ee",
   "metadata": {},
   "outputs": [],
   "source": [
    "rand_cal_time1 = []\n",
    "rand_acc_vs_size1 = []\n",
    "train_N = list(range(100,65000,100))\n",
    "for i in train_N:\n",
    "    start_time = time.time()\n",
    "    rand_train = fashion_data.sample(i)\n",
    "    rand_test = fashion_data.loc[fashion_data.index.difference(rand_train.index)]\n",
    "    predict = knn_20(rand_train,rand_test)\n",
    "    global_acc=sum(np.array(predict)==np.array(rand_test['label']))/len(rand_test)\n",
    "    end_time = time.time()\n",
    "    rand_acc_vs_size1.append(global_acc)\n",
    "    rand_cal_time1.append(end_time-start_time)"
   ]
  },
  {
   "cell_type": "code",
   "execution_count": 147,
   "id": "feb413de",
   "metadata": {},
   "outputs": [
    {
     "data": {
      "image/png": "[encoded data removed]",
      "text/plain": [
       "<Figure size 432x288 with 1 Axes>"
      ]
     },
     "metadata": {
      "needs_background": "light"
     },
     "output_type": "display_data"
    }
   ],
   "source": [
    "plt.plot(train_N, rand_acc_vs_size1,'-o')\n",
    "plt.xlabel(\"Numbers of total training data\")\n",
    "plt.ylabel(\"Accuracy\")\n",
    "plt.show()"
   ]
  },
  {
   "cell_type": "code",
   "execution_count": 149,
   "id": "ae88f7f1",
   "metadata": {},
   "outputs": [
    {
     "data": {
      "text/plain": [
       "[<matplotlib.lines.Line2D at 0x7fc267bbba60>]"
      ]
     },
     "execution_count": 149,
     "metadata": {},
     "output_type": "execute_result"
    },
    {
     "data": {
      "image/png": "[encoded data removed]",
      "text/plain": [
       "<Figure size 432x288 with 1 Axes>"
      ]
     },
     "metadata": {
      "needs_background": "light"
     },
     "output_type": "display_data"
    }
   ],
   "source": [
    "plt.xlabel(\"Numbers of total training data\")\n",
    "plt.ylabel(\"Time\")\n",
    "plt.plot(train_N, rand_cal_time1,'-o')"
   ]
  },
  {
   "cell_type": "code",
   "execution_count": 42,
   "id": "013adabb",
   "metadata": {},
   "outputs": [],
   "source": [
    "rand_train = fashion_data.sample(30000)\n",
    "rand_test = fashion_data.loc[fashion_data.index.difference(rand_train.index)]"
   ]
  },
  {
   "cell_type": "code",
   "execution_count": 43,
   "id": "e56a16cc",
   "metadata": {},
   "outputs": [
    {
     "data": {
      "text/plain": [
       "1    3042\n",
       "8    3041\n",
       "2    3038\n",
       "4    3032\n",
       "6    3022\n",
       "7    3000\n",
       "0    2989\n",
       "5    2988\n",
       "3    2936\n",
       "9    2912\n",
       "Name: label, dtype: int64"
      ]
     },
     "execution_count": 43,
     "metadata": {},
     "output_type": "execute_result"
    }
   ],
   "source": [
    "rand_train['label'].value_counts()"
   ]
  },
  {
   "cell_type": "code",
   "execution_count": 46,
   "id": "6068833f",
   "metadata": {},
   "outputs": [
    {
     "name": "stdout",
     "output_type": "stream",
     "text": [
      "CPU times: user 2min 32s, sys: 14 s, total: 2min 46s\n",
      "Wall time: 37.9 s\n"
     ]
    }
   ],
   "source": [
    "%%time\n",
    "rand_predict = knn_20(rand_train, rand_test)"
   ]
  },
  {
   "cell_type": "code",
   "execution_count": 47,
   "id": "54af65c3",
   "metadata": {},
   "outputs": [
    {
     "name": "stdout",
     "output_type": "stream",
     "text": [
      "global_acc:  0.833125\n",
      "class_acc: \n",
      "{\n",
      "  \"6\": 0.5356963298139769,\n",
      "  \"4\": 0.743195564516129,\n",
      "  \"5\": 0.7619641076769691,\n",
      "  \"2\": 0.7811711256940939,\n",
      "  \"3\": 0.8540846456692913,\n",
      "  \"0\": 0.8745948641236599,\n",
      "  \"8\": 0.9353372063652438,\n",
      "  \"7\": 0.9355,\n",
      "  \"1\": 0.9471955533097524,\n",
      "  \"9\": 0.958904109589041\n",
      "}\n"
     ]
    }
   ],
   "source": [
    "print_acc(rand_predict, rand_test)"
   ]
  },
  {
   "cell_type": "code",
   "execution_count": 129,
   "id": "94ea6b40",
   "metadata": {},
   "outputs": [
    {
     "data": {
      "text/plain": [
       "9    4088\n",
       "3    4064\n",
       "5    4012\n",
       "0    4011\n",
       "7    4000\n",
       "6    3978\n",
       "4    3968\n",
       "2    3962\n",
       "8    3959\n",
       "1    3958\n",
       "Name: label, dtype: int64"
      ]
     },
     "execution_count": 129,
     "metadata": {},
     "output_type": "execute_result"
    }
   ],
   "source": [
    "rand_test['label'].value_counts()"
   ]
  },
  {
   "cell_type": "code",
   "execution_count": 48,
   "id": "12a841dc",
   "metadata": {},
   "outputs": [
    {
     "name": "stdout",
     "output_type": "stream",
     "text": [
      "CPU times: user 13min 57s, sys: 9.38 s, total: 14min 6s\n",
      "Wall time: 14min 8s\n"
     ]
    }
   ],
   "source": [
    "%%time \n",
    "#Using Manhattan distance instead of Euclidean distance to calculate the knn\n",
    "predict_c_man = knn_20(train_c, test_c, dist='manhattan')"
   ]
  },
  {
   "cell_type": "code",
   "execution_count": 49,
   "id": "b8c092d4",
   "metadata": {},
   "outputs": [
    {
     "name": "stdout",
     "output_type": "stream",
     "text": [
      "global_acc:  0.840925\n",
      "class_acc: \n",
      "{\n",
      "  \"6\": 0.529,\n",
      "  \"4\": 0.744,\n",
      "  \"2\": 0.773,\n",
      "  \"5\": 0.8495,\n",
      "  \"3\": 0.867,\n",
      "  \"0\": 0.87,\n",
      "  \"8\": 0.92675,\n",
      "  \"7\": 0.93875,\n",
      "  \"1\": 0.954,\n",
      "  \"9\": 0.95725\n",
      "}\n"
     ]
    }
   ],
   "source": [
    "print_acc(predict_c_man, test_c)"
   ]
  },
  {
   "cell_type": "code",
   "execution_count": 50,
   "id": "4b605549",
   "metadata": {},
   "outputs": [],
   "source": [
    "#calculate euclidean distance\n",
    "def my_knn20_eu(train,test):\n",
    "    train_label = train['label'].copy()\n",
    "    train = train.drop(columns=['label'])\n",
    "    test_label = test['label'].copy()\n",
    "    test = test.drop(columns=['label'])\n",
    "    predict_labels = []\n",
    "    n=len(test)\n",
    "    train=train.to_numpy()\n",
    "    test=test.to_numpy()\n",
    "    for i in range(n):\n",
    "        dists_eu = np.sqrt(np.sum((train - test[i])**2,axis=-1))\n",
    "        k_20 = np.argpartition(dists_eu,20)[:20]\n",
    "        label_20 = train_label.iloc[k_20].tolist()\n",
    "        predict_label = max(label_20,key=label_20.count)\n",
    "        predict_labels.append(predict_label)\n",
    "    accuracy_rate = sum(np.array(predict_labels)==np.array(test_label[:n]))/n\n",
    "    return accuracy_rate, dists_eu"
   ]
  },
  {
   "cell_type": "code",
   "execution_count": 56,
   "id": "f33594fa",
   "metadata": {},
   "outputs": [],
   "source": [
    "#calculate manhattan distance\n",
    "def my_knn20_man(train,test):\n",
    "    train_label = train['label'].copy()\n",
    "    train = train.drop(columns=['label'])\n",
    "    test_label = test['label'].copy()\n",
    "    test = test.drop(columns=['label'])\n",
    "    predict_labels = []\n",
    "    n=len(test)\n",
    "    train=train.to_numpy()\n",
    "    test=test.to_numpy()\n",
    "    for i in range(n):\n",
    "        dists_eu = np.sum(abs(train - test[i]),axis=-1)\n",
    "        k_20 = np.argpartition(dists_eu,20)[:20]\n",
    "        label_20 = train_label.iloc[k_20].tolist()\n",
    "        predict_label = max(label_20,key=label_20.count)\n",
    "        predict_labels.append(predict_label)\n",
    "    accuracy_rate = sum(np.array(predict_labels)==np.array(test_label[:n]))/n\n",
    "    return accuracy_rate, dists_eu"
   ]
  },
  {
   "cell_type": "code",
   "execution_count": 54,
   "id": "2e006c39",
   "metadata": {},
   "outputs": [],
   "source": [
    "accuracy_eu, dists_eu = my_knn20_eu(t_train,t_test)"
   ]
  },
  {
   "cell_type": "code",
   "execution_count": 57,
   "id": "22311051",
   "metadata": {},
   "outputs": [],
   "source": [
    "accuracy_man, dists_man = my_knn20_man(t_train,t_test)"
   ]
  },
  {
   "cell_type": "code",
   "execution_count": 60,
   "id": "eb865345",
   "metadata": {},
   "outputs": [
    {
     "data": {
      "text/plain": [
       "array([3444.97547161, 4076.40380728, 3704.76139583, ..., 1804.50990576,\n",
       "       1336.62186126, 3163.78839368])"
      ]
     },
     "execution_count": 60,
     "metadata": {},
     "output_type": "execute_result"
    }
   ],
   "source": [
    "dists_eu"
   ]
  },
  {
   "cell_type": "code",
   "execution_count": 61,
   "id": "3d9c1749",
   "metadata": {},
   "outputs": [
    {
     "data": {
      "text/plain": [
       "array([71302, 83824, 77463, ..., 25316, 19028, 54293])"
      ]
     },
     "execution_count": 61,
     "metadata": {},
     "output_type": "execute_result"
    }
   ],
   "source": [
    "dists_man"
   ]
  },
  {
   "cell_type": "code",
   "execution_count": 113,
   "id": "65528a2a",
   "metadata": {},
   "outputs": [],
   "source": [
    "#create a new training set with different proportion of classes\n",
    "test_acc_train = fashion_data.loc[fashion_data['label']==0].sample(1000)\n",
    "for i in [1,3,7,8,9]:\n",
    "    add_row = fashion_data.loc[fashion_data['label']==i].sample(1000)\n",
    "    test_acc_train = test_acc_train.append(add_row)\n",
    "for i in [6,4,2,5]:\n",
    "    add_row2 = fashion_data.loc[fashion_data['label']==i].sample(6000)\n",
    "    test_acc_train = test_acc_train.append(add_row2)"
   ]
  },
  {
   "cell_type": "code",
   "execution_count": 114,
   "id": "d15e622a",
   "metadata": {},
   "outputs": [
    {
     "data": {
      "text/plain": [
       "2    6000\n",
       "4    6000\n",
       "5    6000\n",
       "6    6000\n",
       "0    1000\n",
       "1    1000\n",
       "3    1000\n",
       "7    1000\n",
       "8    1000\n",
       "9    1000\n",
       "Name: label, dtype: int64"
      ]
     },
     "execution_count": 114,
     "metadata": {},
     "output_type": "execute_result"
    }
   ],
   "source": [
    "test_acc_train['label'].value_counts()   "
   ]
  },
  {
   "cell_type": "code",
   "execution_count": 115,
   "id": "3f107a63",
   "metadata": {},
   "outputs": [],
   "source": [
    "test_acc_test = fashion_data.loc[fashion_data.index.difference(test_acc_train.index)]"
   ]
  },
  {
   "cell_type": "code",
   "execution_count": 116,
   "id": "7b2dcf38",
   "metadata": {},
   "outputs": [],
   "source": [
    "predict_test_acc = knn_20(test_acc_train, test_acc_test)"
   ]
  },
  {
   "cell_type": "code",
   "execution_count": 117,
   "id": "ed2588d2",
   "metadata": {},
   "outputs": [
    {
     "name": "stdout",
     "output_type": "stream",
     "text": [
      "global_acc:  0.81295\n",
      "class_acc: \n",
      "{\n",
      "  \"0\": 0.5586666666666666,\n",
      "  \"3\": 0.6993333333333334,\n",
      "  \"6\": 0.717,\n",
      "  \"4\": 0.789,\n",
      "  \"2\": 0.811,\n",
      "  \"8\": 0.858,\n",
      "  \"7\": 0.8843333333333333,\n",
      "  \"5\": 0.915,\n",
      "  \"1\": 0.9315,\n",
      "  \"9\": 0.9491666666666667\n",
      "}\n"
     ]
    }
   ],
   "source": [
    "print_acc(predict_test_acc, test_acc_test)"
   ]
  },
  {
   "cell_type": "code",
   "execution_count": 118,
   "id": "03b687b3",
   "metadata": {},
   "outputs": [],
   "source": [
    "test_acc_train2 = fashion_data.loc[fashion_data['label']==0].sample(3000)\n",
    "for i in [1,3,7,8,9]:\n",
    "    add_row2 = fashion_data.loc[fashion_data['label']==i].sample(3000)\n",
    "    test_acc_train2 = test_acc_train2.append(add_row2)\n",
    "for i in [6,4,2,5]:\n",
    "    add_row2 = fashion_data.loc[fashion_data['label']==i].sample(6000)\n",
    "    test_acc_train2 = test_acc_train2.append(add_row2)"
   ]
  },
  {
   "cell_type": "code",
   "execution_count": 119,
   "id": "4f011687",
   "metadata": {},
   "outputs": [],
   "source": [
    "test_acc_test2 = fashion_data.loc[fashion_data.index.difference(test_acc_train2.index)]"
   ]
  },
  {
   "cell_type": "code",
   "execution_count": 110,
   "id": "b3baa8cf",
   "metadata": {},
   "outputs": [
    {
     "data": {
      "text/plain": [
       "2    6000\n",
       "4    6000\n",
       "5    6000\n",
       "6    6000\n",
       "0    3000\n",
       "1    3000\n",
       "3    3000\n",
       "7    3000\n",
       "8    3000\n",
       "9    3000\n",
       "Name: label, dtype: int64"
      ]
     },
     "execution_count": 110,
     "metadata": {},
     "output_type": "execute_result"
    }
   ],
   "source": [
    "test_acc_train2['label'].value_counts()"
   ]
  },
  {
   "cell_type": "code",
   "execution_count": 120,
   "id": "5bca75d0",
   "metadata": {},
   "outputs": [],
   "source": [
    "predict_test_acc2 = knn_20(test_acc_train2, test_acc_test2)"
   ]
  },
  {
   "cell_type": "code",
   "execution_count": 121,
   "id": "76f287da",
   "metadata": {},
   "outputs": [
    {
     "name": "stdout",
     "output_type": "stream",
     "text": [
      "global_acc:  0.8745714285714286\n",
      "class_acc: \n",
      "{\n",
      "  \"6\": 0.659,\n",
      "  \"0\": 0.7685,\n",
      "  \"4\": 0.784,\n",
      "  \"2\": 0.791,\n",
      "  \"3\": 0.818,\n",
      "  \"5\": 0.842,\n",
      "  \"8\": 0.92275,\n",
      "  \"7\": 0.939,\n",
      "  \"1\": 0.94775,\n",
      "  \"9\": 0.957\n",
      "}\n"
     ]
    }
   ],
   "source": [
    "print_acc(predict_test_acc2, test_acc_test2)"
   ]
  },
  {
   "cell_type": "code",
   "execution_count": 122,
   "id": "243b2abf",
   "metadata": {},
   "outputs": [],
   "source": [
    "test_acc_train3, test_acc_test3 = tts_by_class(6000)"
   ]
  },
  {
   "cell_type": "code",
   "execution_count": 90,
   "id": "c3dac4f7",
   "metadata": {},
   "outputs": [
    {
     "data": {
      "text/plain": [
       "0    6000\n",
       "1    6000\n",
       "2    6000\n",
       "3    6000\n",
       "4    6000\n",
       "5    6000\n",
       "6    6000\n",
       "7    6000\n",
       "8    6000\n",
       "9    6000\n",
       "Name: label, dtype: int64"
      ]
     },
     "execution_count": 90,
     "metadata": {},
     "output_type": "execute_result"
    }
   ],
   "source": [
    "test_acc_train3['label'].value_counts()"
   ]
  },
  {
   "cell_type": "code",
   "execution_count": 91,
   "id": "d1b8db86",
   "metadata": {},
   "outputs": [],
   "source": [
    "predict_test_acc3 = knn_20(test_acc_train3, test_acc_test3)"
   ]
  },
  {
   "cell_type": "code",
   "execution_count": 92,
   "id": "a54ed9fe",
   "metadata": {},
   "outputs": [
    {
     "name": "stdout",
     "output_type": "stream",
     "text": [
      "global_acc:  0.8473\n",
      "class_acc: \n",
      "{\n",
      "  \"6\": 0.566,\n",
      "  \"5\": 0.778,\n",
      "  \"2\": 0.789,\n",
      "  \"4\": 0.797,\n",
      "  \"0\": 0.865,\n",
      "  \"3\": 0.883,\n",
      "  \"7\": 0.937,\n",
      "  \"8\": 0.942,\n",
      "  \"1\": 0.954,\n",
      "  \"9\": 0.962\n",
      "}\n"
     ]
    }
   ],
   "source": [
    "print_acc(predict_test_acc3, test_acc_test3)"
   ]
  },
  {
   "cell_type": "code",
   "execution_count": null,
   "id": "52fb443a",
   "metadata": {},
   "outputs": [],
   "source": []
  }
 ],
 "metadata": {
  "kernelspec": {
   "display_name": "Python 3",
   "language": "python",
   "name": "python3"
  },
  "language_info": {
   "codemirror_mode": {
    "name": "ipython",
    "version": 3
   },
   "file_extension": ".py",
   "mimetype": "text/x-python",
   "name": "python",
   "nbconvert_exporter": "python",
   "pygments_lexer": "ipython3",
   "version": "3.8.8"
  }
 },
 "nbformat": 4,
 "nbformat_minor": 5
}
